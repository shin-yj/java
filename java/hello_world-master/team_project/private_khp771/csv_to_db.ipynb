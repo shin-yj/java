{
 "metadata": {
  "language_info": {
   "codemirror_mode": {
    "name": "ipython",
    "version": 3
   },
   "file_extension": ".py",
   "mimetype": "text/x-python",
   "name": "python",
   "nbconvert_exporter": "python",
   "pygments_lexer": "ipython3",
   "version": "3.6.10-final"
  },
  "orig_nbformat": 2,
  "kernelspec": {
   "name": "python3",
   "display_name": "Python 3"
  }
 },
 "nbformat": 4,
 "nbformat_minor": 2,
 "cells": [
  {
   "cell_type": "markdown",
   "metadata": {},
   "source": [
    "## 테스트 작업"
   ]
  },
  {
   "cell_type": "code",
   "execution_count": 8,
   "metadata": {},
   "outputs": [],
   "source": [
    "import os\n",
    "import numpy as np\n",
    "import pandas as pd\n",
    "\n",
    "import cx_Oracle"
   ]
  },
  {
   "cell_type": "code",
   "execution_count": 9,
   "metadata": {},
   "outputs": [],
   "source": [
    "# CSV 데이터 컬럼명\n",
    "\n",
    "DATA_FILE_COLUMNS = ['region', 'region_sub', 'apt_name', 'apt_size',\n",
    "                     'apt_floor', 'contract_date', 'contract_price',\n",
    "                     'completion_year', 'street_num', 'street_name']\n",
    "\n",
    "# region = 도, 광역시, 특별시\n",
    "# region_sub = 시군구\n",
    "# apt_name = 단지명\n",
    "# apt_size = 전용면적\n",
    "# apt_floor = 층\n",
    "# contract_date = 계약년월일\n",
    "# contract_price = 거래금액\n",
    "# completion_year = 건축년도\n",
    "# street_num = 번지\n",
    "# street_name = 도로명"
   ]
  },
  {
   "cell_type": "code",
   "execution_count": 15,
   "metadata": {},
   "outputs": [],
   "source": [
    "# 테이블 및 자동증가 시퀀스 생성 함수\n",
    "\n",
    "def create_table_seq():\n",
    "    # APT_DEAL_PRICE TABLE\n",
    "    create_table_sql = \"\"\"\n",
    "        CREATE TABLE APT_DEAL_PRICE\n",
    "        (\n",
    "            APT_ID NUMBER PRIMARY KEY,\n",
    "            REGION VARCHAR2(20 CHAR) NOT NULL,\n",
    "            REGION_SUB VARCHAR2(40 CHAR) DEFAULT ('없음') NOT NULL,\n",
    "            APT_NAME VARCHAR2(40 CHAR) NOT NULL,\n",
    "            APT_SIZE NUMBER NOT NULL,\n",
    "            APT_FLOOR NUMBER NOT NULL,\n",
    "            CONTRACT_DATE DATE NOT NULL,\n",
    "            CONTRACT_PRICE NUMBER NOT NULL,\n",
    "            COMPLETION_YEAR NUMBER NOT NULL,\n",
    "            STREET_NUM VARCHAR2(20 CHAR) DEFAULT('없음') NOT NULL,\n",
    "            STREET_NAME VARCHAR2(40 CHAR) DEFAULT ('없음') NOT NULL\n",
    "        )\n",
    "        \"\"\"\n",
    "\n",
    "    # FOR APT_ID, AUTO INCREMENT ID\n",
    "    create_seq_sql = \"CREATE SEQUENCE SEQ_ID NOCACHE\"\n",
    "\n",
    "    conn = cx_Oracle.connect('hoseo', 'hoseo', 'localhost:1521/xe')\n",
    "    cursor = conn.cursor()\n",
    "\n",
    "    cursor.execute(create_table_sql)\n",
    "    cursor.execute(create_seq_sql)\n",
    "\n",
    "    conn.commit()\n",
    "    cursor.close()\n",
    "    conn.close()"
   ]
  },
  {
   "cell_type": "code",
   "execution_count": 11,
   "metadata": {},
   "outputs": [],
   "source": [
    "# DB 확인하고 한 번만 실행!\n",
    "\n",
    "# create_table_seq()"
   ]
  },
  {
   "cell_type": "code",
   "execution_count": 12,
   "metadata": {},
   "outputs": [
    {
     "output_type": "execute_result",
     "data": {
      "text/plain": "('data-files/201208.csv', 96)"
     },
     "metadata": {},
     "execution_count": 12
    }
   ],
   "source": [
    "# CSV 파일 리스트 읽어오기, data-files 폴더\n",
    "\n",
    "DATA_FILES_PATH = 'data-files'\n",
    "\n",
    "data_files = os.listdir(DATA_FILES_PATH)\n",
    "data_files = [ f'{DATA_FILES_PATH}/{r}' for r in data_files ]\n",
    "data_files[0], len(data_files)"
   ]
  },
  {
   "cell_type": "code",
   "execution_count": 13,
   "metadata": {
    "tags": []
   },
   "outputs": [
    {
     "output_type": "stream",
     "name": "stdout",
     "text": "<class 'pandas.core.frame.DataFrame'>\nRangeIndex: 61775 entries, 0 to 61774\nData columns (total 10 columns):\n #   Column           Non-Null Count  Dtype  \n---  ------           --------------  -----  \n 0   region           61775 non-null  object \n 1   region_sub       61775 non-null  object \n 2   apt_name         61775 non-null  object \n 3   apt_size         61775 non-null  float64\n 4   apt_floor        61775 non-null  int64  \n 5   contract_date    61775 non-null  object \n 6   contract_price   61775 non-null  int64  \n 7   completion_year  61775 non-null  int64  \n 8   street_num       61775 non-null  object \n 9   street_name      61775 non-null  object \ndtypes: float64(1), int64(3), object(6)\nmemory usage: 4.7+ MB\n"
    }
   ],
   "source": [
    "# CSV 파일 로드 테스트\n",
    "\n",
    "testD = pd.read_csv('data-files/201507.csv', encoding='utf-8')\n",
    "testD['street_num'].fillna('없음', inplace=True)\n",
    "testD['street_name'].fillna('없음', inplace=True)\n",
    "testD.info()\n",
    "# testD.head()"
   ]
  },
  {
   "cell_type": "code",
   "execution_count": 14,
   "metadata": {},
   "outputs": [
    {
     "output_type": "execute_result",
     "data": {
      "text/plain": "('강원도',\n '강릉시 견소동',\n '송정한신',\n 84.94,\n 10,\n '2015-07-01',\n 138000000,\n 1997,\n '202',\n '경강로2539번길 8')"
     },
     "metadata": {},
     "execution_count": 14
    }
   ],
   "source": [
    "# dataframe 튜플 리스트로 변환\n",
    "testD_tp = [ tuple(r) for r in testD.values ]\n",
    "testD_tp[0]"
   ]
  },
  {
   "cell_type": "code",
   "execution_count": 17,
   "metadata": {},
   "outputs": [],
   "source": [
    "# dataframe -> DB로 insert 하기 함수\n",
    "\n",
    "def bulk_insert(tuple_data):\n",
    "    bulk_insert_sql = \"\"\"\n",
    "        INSERT INTO APT_DEAL_PRICE\n",
    "        VALUES (\n",
    "            SEQ_ID.NEXTVAL, :REGION, :REGION_SUB, :APT_NAME,\n",
    "            :APT_SIZE, :APT_FLOOR, :CONTRACT_DATE, :CONTRACT_PRICE,\n",
    "            :COMPLETION_YEAR, :STREET_NUM, :STREET_NAME)\n",
    "        \"\"\"\n",
    "\n",
    "    conn = cx_Oracle.connect('hoseo', 'hoseo', 'localhost:1521/xe')\n",
    "    cursor = conn.cursor()\n",
    "\n",
    "    try:\n",
    "        cursor.prepare(bulk_insert_sql)\n",
    "        result = cursor.executemany(None, tuple_data)\n",
    "    except:\n",
    "        print(result)\n",
    "        cursor.close()\n",
    "        conn.close()\n",
    "    \n",
    "    conn.commit()\n",
    "    cursor.close()\n",
    "    conn.close()"
   ]
  },
  {
   "cell_type": "code",
   "execution_count": 18,
   "metadata": {},
   "outputs": [],
   "source": [
    "# dataframe 데이터 -> DB 입력\n",
    "\n",
    "# bulk_insert(testD_tp)"
   ]
  },
  {
   "cell_type": "markdown",
   "metadata": {},
   "source": [
    "## 일괄 처리 작업"
   ]
  },
  {
   "cell_type": "code",
   "execution_count": 20,
   "metadata": {},
   "outputs": [],
   "source": [
    "# 일괄 처리 작업0\n",
    "\n",
    "# 테이블 공간 용량 늘리기, SQL DEVELPOER 로 작업하기\n",
    "\n",
    "# select file_name, file_id, tablespace_name, status\n",
    "# from dba_data_files\n",
    "# where tablespace_name='SYSTEM';\n",
    "\n",
    "# alter database datafile 'C:\\ORACLEXE\\APP\\ORACLE\\ORADATA\\XE\\SYSTEM.DBF' resize 1024M;"
   ]
  },
  {
   "cell_type": "code",
   "execution_count": 21,
   "metadata": {},
   "outputs": [],
   "source": [
    "# 일괄 처리 작업 1\n",
    "\n",
    "import os\n",
    "import numpy as np\n",
    "import pandas as pd\n",
    "import cx_Oracle"
   ]
  },
  {
   "cell_type": "code",
   "execution_count": 22,
   "metadata": {},
   "outputs": [],
   "source": [
    "# 일괄 처리 작업 2\n",
    "\n",
    "def create_table_seq():\n",
    "    # APT_DEAL_PRICE TABLE\n",
    "    create_table_sql = \"\"\"\n",
    "        CREATE TABLE APT_DEAL_PRICE\n",
    "        (\n",
    "            APT_ID NUMBER PRIMARY KEY,\n",
    "            REGION VARCHAR2(20 CHAR) NOT NULL,\n",
    "            REGION_SUB VARCHAR2(40 CHAR) DEFAULT ('없음') NOT NULL,\n",
    "            APT_NAME VARCHAR2(40 CHAR) NOT NULL,\n",
    "            APT_SIZE NUMBER NOT NULL,\n",
    "            APT_FLOOR NUMBER NOT NULL,\n",
    "            CONTRACT_DATE DATE NOT NULL,\n",
    "            CONTRACT_PRICE NUMBER NOT NULL,\n",
    "            COMPLETION_YEAR NUMBER NOT NULL,\n",
    "            STREET_NUM VARCHAR2(20 CHAR) DEFAULT('없음') NOT NULL,\n",
    "            STREET_NAME VARCHAR2(40 CHAR) DEFAULT ('없음') NOT NULL\n",
    "        )\n",
    "        \"\"\"\n",
    "\n",
    "    # FOR APT_ID, AUTO INCREMENT ID\n",
    "    create_seq_sql = \"CREATE SEQUENCE SEQ_ID NOCACHE\"\n",
    "\n",
    "    conn = cx_Oracle.connect('hoseo', 'hoseo', 'localhost:1521/xe')\n",
    "    cursor = conn.cursor()\n",
    "\n",
    "    cursor.execute(create_table_sql)\n",
    "    cursor.execute(create_seq_sql)\n",
    "\n",
    "    conn.commit()\n",
    "    cursor.close()\n",
    "    conn.close()"
   ]
  },
  {
   "cell_type": "code",
   "execution_count": 23,
   "metadata": {},
   "outputs": [],
   "source": [
    "# 일관 처리 작업 3\n",
    "\n",
    "def bulk_insert(tuple_data):\n",
    "    bulk_insert_sql = \"\"\"\n",
    "        INSERT INTO APT_DEAL_PRICE\n",
    "        VALUES (\n",
    "            SEQ_ID.NEXTVAL, :REGION, :REGION_SUB, :APT_NAME,\n",
    "            :APT_SIZE, :APT_FLOOR, :CONTRACT_DATE, :CONTRACT_PRICE,\n",
    "            :COMPLETION_YEAR, :STREET_NUM, :STREET_NAME)\n",
    "        \"\"\"\n",
    "\n",
    "    conn = cx_Oracle.connect('hoseo', 'hoseo', 'localhost:1521/xe')\n",
    "    cursor = conn.cursor()\n",
    "\n",
    "    try:\n",
    "        cursor.prepare(bulk_insert_sql)\n",
    "        result = cursor.executemany(None, tuple_data)\n",
    "    except:\n",
    "        print(result)\n",
    "        cursor.close()\n",
    "        conn.close()\n",
    "    \n",
    "    conn.commit()\n",
    "    cursor.close()\n",
    "    conn.close()"
   ]
  },
  {
   "cell_type": "code",
   "execution_count": 24,
   "metadata": {},
   "outputs": [],
   "source": [
    "# 일관 처리 작업 4\n",
    "\n",
    "def batch_csv_to_db():\n",
    "    \n",
    "    DATA_FILES_PATH = 'data-files'\n",
    "\n",
    "    data_files = os.listdir(DATA_FILES_PATH)\n",
    "    data_files = [ f'{DATA_FILES_PATH}/{r}' for r in data_files ]\n",
    "   \n",
    "    create_table_seq()\n",
    "\n",
    "    total_count = 0\n",
    "\n",
    "    for df_path in data_files:\n",
    "        dataD = pd.read_csv(df_path, encoding='utf-8')\n",
    "        dataD['street_num'].fillna('없음', inplace=True)\n",
    "        dataD['street_name'].fillna('없음', inplace=True)        \n",
    "        dataD_tp = [ tuple(r) for r in dataD.values ]\n",
    "\n",
    "        bulk_insert(dataD_tp)\n",
    "\n",
    "        print(f'insert complete {df_path}')\n",
    "        total_count += 1\n",
    "\n",
    "    print(f'batch complete!! csv count{total_count}')"
   ]
  },
  {
   "cell_type": "code",
   "execution_count": 5,
   "metadata": {
    "tags": []
   },
   "outputs": [
    {
     "output_type": "stream",
     "name": "stdout",
     "text": "insert complete data-files/201208.csv\ninsert complete data-files/201209.csv\ninsert complete data-files/201210.csv\ninsert complete data-files/201211.csv\ninsert complete data-files/201212.csv\ninsert complete data-files/201301.csv\ninsert complete data-files/201302.csv\ninsert complete data-files/201303.csv\ninsert complete data-files/201304.csv\ninsert complete data-files/201305.csv\ninsert complete data-files/201306.csv\ninsert complete data-files/201307.csv\ninsert complete data-files/201308.csv\ninsert complete data-files/201309.csv\ninsert complete data-files/201310.csv\ninsert complete data-files/201311.csv\ninsert complete data-files/201312.csv\ninsert complete data-files/201401.csv\ninsert complete data-files/201402.csv\ninsert complete data-files/201403.csv\ninsert complete data-files/201404.csv\ninsert complete data-files/201405.csv\ninsert complete data-files/201406.csv\ninsert complete data-files/201407.csv\ninsert complete data-files/201408.csv\ninsert complete data-files/201409.csv\ninsert complete data-files/201410.csv\ninsert complete data-files/201411.csv\ninsert complete data-files/201412.csv\ninsert complete data-files/201501.csv\ninsert complete data-files/201502.csv\ninsert complete data-files/201503.csv\ninsert complete data-files/201504.csv\ninsert complete data-files/201505.csv\ninsert complete data-files/201506.csv\ninsert complete data-files/201507.csv\ninsert complete data-files/201508.csv\ninsert complete data-files/201509.csv\ninsert complete data-files/201510.csv\ninsert complete data-files/201511.csv\ninsert complete data-files/201512.csv\ninsert complete data-files/201601.csv\ninsert complete data-files/201602.csv\ninsert complete data-files/201603.csv\ninsert complete data-files/201604.csv\ninsert complete data-files/201605.csv\ninsert complete data-files/201606.csv\ninsert complete data-files/201607.csv\ninsert complete data-files/201608.csv\ninsert complete data-files/201609.csv\ninsert complete data-files/201610.csv\ninsert complete data-files/201611.csv\ninsert complete data-files/201612.csv\ninsert complete data-files/201701.csv\ninsert complete data-files/201702.csv\ninsert complete data-files/201703.csv\ninsert complete data-files/201704.csv\ninsert complete data-files/201705.csv\ninsert complete data-files/201706.csv\ninsert complete data-files/201707.csv\ninsert complete data-files/201708.csv\ninsert complete data-files/201709.csv\ninsert complete data-files/201710.csv\ninsert complete data-files/201711.csv\ninsert complete data-files/201712.csv\ninsert complete data-files/201801.csv\ninsert complete data-files/201802.csv\ninsert complete data-files/201803.csv\ninsert complete data-files/201804.csv\ninsert complete data-files/201805.csv\ninsert complete data-files/201806.csv\ninsert complete data-files/201807.csv\ninsert complete data-files/201808.csv\ninsert complete data-files/201809.csv\ninsert complete data-files/201810.csv\ninsert complete data-files/201811.csv\ninsert complete data-files/201812.csv\ninsert complete data-files/201901.csv\ninsert complete data-files/201902.csv\ninsert complete data-files/201903.csv\ninsert complete data-files/201904.csv\ninsert complete data-files/201905.csv\ninsert complete data-files/201906.csv\ninsert complete data-files/201907.csv\ninsert complete data-files/201908.csv\ninsert complete data-files/201909.csv\ninsert complete data-files/201910.csv\ninsert complete data-files/201911.csv\ninsert complete data-files/201912.csv\ninsert complete data-files/202001.csv\ninsert complete data-files/202002.csv\ninsert complete data-files/202003.csv\ninsert complete data-files/202004.csv\ninsert complete data-files/202005.csv\ninsert complete data-files/202006.csv\ninsert complete data-files/202007.csv\nbatch complete!! csv count96\n"
    }
   ],
   "source": [
    "# 일관 처리 작업 5\n",
    "\n",
    "# batch_csv_to_db()"
   ]
  },
  {
   "cell_type": "code",
   "execution_count": null,
   "metadata": {},
   "outputs": [],
   "source": []
  }
 ]
}