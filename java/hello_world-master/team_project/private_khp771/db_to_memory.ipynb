{
 "metadata": {
  "language_info": {
   "codemirror_mode": {
    "name": "ipython",
    "version": 3
   },
   "file_extension": ".py",
   "mimetype": "text/x-python",
   "name": "python",
   "nbconvert_exporter": "python",
   "pygments_lexer": "ipython3",
   "version": "3.6.10-final"
  },
  "orig_nbformat": 2,
  "kernelspec": {
   "name": "python3",
   "display_name": "Python 3"
  }
 },
 "nbformat": 4,
 "nbformat_minor": 2,
 "cells": [
  {
   "cell_type": "code",
   "execution_count": 4,
   "metadata": {},
   "outputs": [],
   "source": [
    "import numpy as np\n",
    "import pandas as pd\n",
    "import cx_Oracle"
   ]
  },
  {
   "cell_type": "code",
   "execution_count": 5,
   "metadata": {},
   "outputs": [],
   "source": [
    "def get_data_from_db(query):\n",
    "    conn = cx_Oracle.connect('hoseo', 'hoseo', 'localhost:1521/xe')\n",
    "    df = pd.read_sql(query, conn)\n",
    "    conn.close()\n",
    "    return df"
   ]
  },
  {
   "cell_type": "code",
   "execution_count": 6,
   "metadata": {},
   "outputs": [],
   "source": [
    "query = \"\"\"\n",
    "    SELECT *\n",
    "    FROM APT_DEAL_PRICE\n",
    "    WHERE APT_ID < 100\n",
    "    \"\"\""
   ]
  },
  {
   "cell_type": "code",
   "execution_count": 7,
   "metadata": {
    "tags": []
   },
   "outputs": [
    {
     "output_type": "stream",
     "name": "stdout",
     "text": "<class 'pandas.core.frame.DataFrame'>\nRangeIndex: 99 entries, 0 to 98\nData columns (total 11 columns):\n #   Column           Non-Null Count  Dtype         \n---  ------           --------------  -----         \n 0   APT_ID           99 non-null     int64         \n 1   REGION           99 non-null     object        \n 2   REGION_SUB       99 non-null     object        \n 3   APT_NAME         99 non-null     object        \n 4   APT_SIZE         99 non-null     float64       \n 5   APT_FLOOR        99 non-null     int64         \n 6   CONTRACT_DATE    99 non-null     datetime64[ns]\n 7   CONTRACT_PRICE   99 non-null     int64         \n 8   COMPLETION_YEAR  99 non-null     int64         \n 9   STREET_NUM       99 non-null     object        \n 10  STREET_NAME      99 non-null     object        \ndtypes: datetime64[ns](1), float64(1), int64(4), object(5)\nmemory usage: 8.6+ KB\n"
    },
    {
     "output_type": "execute_result",
     "data": {
      "text/plain": "   APT_ID REGION REGION_SUB      APT_NAME  APT_SIZE  APT_FLOOR CONTRACT_DATE  \\\n0       1    강원도    강릉시 견소동          송정한신     84.94          5    2012-08-24   \n1       2    강원도    강릉시 견소동          송정한신     59.80         15    2012-08-27   \n2       3    강원도    강릉시 견소동          송정한신     59.80          1    2012-08-31   \n3       4    강원도    강릉시 견소동  송정해변신도브래뉴아파트     84.99          7    2012-08-08   \n4       5    강원도    강릉시 견소동  송정해변신도브래뉴아파트     84.99          9    2012-08-09   \n\n   CONTRACT_PRICE  COMPLETION_YEAR STREET_NUM   STREET_NAME  \n0       130000000             1997        202   경강로2539번길 8  \n1        85000000             1997        202   경강로2539번길 8  \n2        60000000             1997        202   경강로2539번길 8  \n3       150000000             2005        289  경강로2539번길 22  \n4       165000000             2005        289  경강로2539번길 22  ",
      "text/html": "<div>\n<style scoped>\n    .dataframe tbody tr th:only-of-type {\n        vertical-align: middle;\n    }\n\n    .dataframe tbody tr th {\n        vertical-align: top;\n    }\n\n    .dataframe thead th {\n        text-align: right;\n    }\n</style>\n<table border=\"1\" class=\"dataframe\">\n  <thead>\n    <tr style=\"text-align: right;\">\n      <th></th>\n      <th>APT_ID</th>\n      <th>REGION</th>\n      <th>REGION_SUB</th>\n      <th>APT_NAME</th>\n      <th>APT_SIZE</th>\n      <th>APT_FLOOR</th>\n      <th>CONTRACT_DATE</th>\n      <th>CONTRACT_PRICE</th>\n      <th>COMPLETION_YEAR</th>\n      <th>STREET_NUM</th>\n      <th>STREET_NAME</th>\n    </tr>\n  </thead>\n  <tbody>\n    <tr>\n      <th>0</th>\n      <td>1</td>\n      <td>강원도</td>\n      <td>강릉시 견소동</td>\n      <td>송정한신</td>\n      <td>84.94</td>\n      <td>5</td>\n      <td>2012-08-24</td>\n      <td>130000000</td>\n      <td>1997</td>\n      <td>202</td>\n      <td>경강로2539번길 8</td>\n    </tr>\n    <tr>\n      <th>1</th>\n      <td>2</td>\n      <td>강원도</td>\n      <td>강릉시 견소동</td>\n      <td>송정한신</td>\n      <td>59.80</td>\n      <td>15</td>\n      <td>2012-08-27</td>\n      <td>85000000</td>\n      <td>1997</td>\n      <td>202</td>\n      <td>경강로2539번길 8</td>\n    </tr>\n    <tr>\n      <th>2</th>\n      <td>3</td>\n      <td>강원도</td>\n      <td>강릉시 견소동</td>\n      <td>송정한신</td>\n      <td>59.80</td>\n      <td>1</td>\n      <td>2012-08-31</td>\n      <td>60000000</td>\n      <td>1997</td>\n      <td>202</td>\n      <td>경강로2539번길 8</td>\n    </tr>\n    <tr>\n      <th>3</th>\n      <td>4</td>\n      <td>강원도</td>\n      <td>강릉시 견소동</td>\n      <td>송정해변신도브래뉴아파트</td>\n      <td>84.99</td>\n      <td>7</td>\n      <td>2012-08-08</td>\n      <td>150000000</td>\n      <td>2005</td>\n      <td>289</td>\n      <td>경강로2539번길 22</td>\n    </tr>\n    <tr>\n      <th>4</th>\n      <td>5</td>\n      <td>강원도</td>\n      <td>강릉시 견소동</td>\n      <td>송정해변신도브래뉴아파트</td>\n      <td>84.99</td>\n      <td>9</td>\n      <td>2012-08-09</td>\n      <td>165000000</td>\n      <td>2005</td>\n      <td>289</td>\n      <td>경강로2539번길 22</td>\n    </tr>\n  </tbody>\n</table>\n</div>"
     },
     "metadata": {},
     "execution_count": 7
    }
   ],
   "source": [
    "dataD = get_data_from_db(query)\n",
    "dataD.info()\n",
    "dataD.head()"
   ]
  },
  {
   "cell_type": "code",
   "execution_count": null,
   "metadata": {},
   "outputs": [],
   "source": []
  }
 ]
}