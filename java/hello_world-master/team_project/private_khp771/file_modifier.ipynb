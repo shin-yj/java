{
 "metadata": {
  "language_info": {
   "codemirror_mode": {
    "name": "ipython",
    "version": 3
   },
   "file_extension": ".py",
   "mimetype": "text/x-python",
   "name": "python",
   "nbconvert_exporter": "python",
   "pygments_lexer": "ipython3",
   "version": "3.6.10-final"
  },
  "orig_nbformat": 2,
  "kernelspec": {
   "name": "python3",
   "display_name": "Python 3"
  }
 },
 "nbformat": 4,
 "nbformat_minor": 2,
 "cells": [
  {
   "cell_type": "code",
   "execution_count": 1,
   "metadata": {},
   "outputs": [],
   "source": [
    "import os\n",
    "import re\n",
    "import numpy as np\n",
    "import pandas as pd"
   ]
  },
  {
   "cell_type": "code",
   "execution_count": 10,
   "metadata": {},
   "outputs": [
    {
     "output_type": "execute_result",
     "data": {
      "text/plain": "('raw-files/~$아파트(매매)_실거래가_201208.xlsx', 97)"
     },
     "metadata": {},
     "execution_count": 10
    }
   ],
   "source": [
    "# 원본 엑셀 파일 리스트 읽어오기, raw-files 폴더\n",
    "RAW_FILES_PATH = 'raw-files'\n",
    "\n",
    "raw_files = os.listdir(RAW_FILES_PATH)\n",
    "raw_files = [ f'{RAW_FILES_PATH}/{r}' for r in raw_files ]\n",
    "raw_files[0], len(raw_files)"
   ]
  },
  {
   "cell_type": "code",
   "execution_count": 3,
   "metadata": {},
   "outputs": [],
   "source": [
    "# 원본 엑셀 데이터 컬럼명\n",
    "RAW_FILE_COLUMNS = ['region', 'street_num', 'street_num1', 'street_num2',\n",
    "                    'apt_name', 'apt_size', 'contract_yymm', 'contract_dd',\n",
    "                    'contract_price', 'apt_floor','completion_year','street_name']"
   ]
  },
  {
   "cell_type": "code",
   "execution_count": 4,
   "metadata": {},
   "outputs": [],
   "source": [
    "# data-files 폴더 만들기\n",
    "DATA_FILES_PATH = 'data-files'\n",
    "\n",
    "if not(os.path.isdir(DATA_FILES_PATH)):\n",
    "    os.makedirs(os.path.join(DATA_FILES_PATH))"
   ]
  },
  {
   "cell_type": "code",
   "execution_count": 11,
   "metadata": {
    "tags": []
   },
   "outputs": [
    {
     "output_type": "execute_result",
     "data": {
      "text/plain": "('data-files/201208.csv', 97)"
     },
     "metadata": {},
     "execution_count": 11
    }
   ],
   "source": [
    "# 기록할 파일 리스트 만들기\n",
    "data_files = []\n",
    "for rf in raw_files:\n",
    "    p = re.compile('[0-9]+')\n",
    "    date_name = p.findall(rf)\n",
    "    data_files.append(f'{DATA_FILES_PATH}/{date_name[0]}.csv')\n",
    "\n",
    "# files_zip = zip(raw_files, data_files)\n",
    "data_files[0], len(data_files)"
   ]
  },
  {
   "cell_type": "code",
   "execution_count": 6,
   "metadata": {},
   "outputs": [],
   "source": [
    "# 수정 CSV 데이터 컬럼명\n",
    "DATA_FILE_COLUMNS = ['region', 'region_sub', 'apt_name', 'apt_size',\n",
    "                     'apt_floor', 'contract_date', 'contract_price',\n",
    "                     'completion_year', 'street_num', 'street_name']\n",
    "\n",
    "# region = 도, 광역시, 특별시\n",
    "# region_sub = 시군구\n",
    "# apt_name = 단지명\n",
    "# apt_size = 전용면적\n",
    "# apt_floor = 층\n",
    "# contract_date = 계약년월일\n",
    "# contract_price = 거래금액\n",
    "# completion_year = 건축년도\n",
    "# street_num = 번지\n",
    "# street_name = 도로명\n"
   ]
  },
  {
   "cell_type": "code",
   "execution_count": 7,
   "metadata": {
    "tags": []
   },
   "outputs": [
    {
     "output_type": "stream",
     "name": "stdout",
     "text": "<class 'pandas.core.frame.DataFrame'>\nRangeIndex: 26054 entries, 0 to 26053\nData columns (total 12 columns):\n #   Column           Non-Null Count  Dtype  \n---  ------           --------------  -----  \n 0   region           26054 non-null  object \n 1   street_num       26054 non-null  object \n 2   street_num1      26054 non-null  int64  \n 3   street_num2      26054 non-null  int64  \n 4   apt_name         26054 non-null  object \n 5   apt_size         26054 non-null  float64\n 6   contract_yymm    26054 non-null  int64  \n 7   contract_dd      26054 non-null  int64  \n 8   contract_price   26054 non-null  object \n 9   apt_floor        26054 non-null  int64  \n 10  completion_year  26054 non-null  int64  \n 11  street_name      26054 non-null  object \ndtypes: float64(1), int64(6), object(5)\nmemory usage: 2.4+ MB\n"
    },
    {
     "output_type": "execute_result",
     "data": {
      "text/plain": "        region street_num  street_num1  street_num2      apt_name  apt_size  \\\n0  강원도 강릉시 견소동        202          202            0          송정한신    84.945   \n1  강원도 강릉시 견소동        202          202            0          송정한신    59.800   \n2  강원도 강릉시 견소동        202          202            0          송정한신    59.800   \n3  강원도 강릉시 견소동        289          289            0  송정해변신도브래뉴아파트    84.990   \n4  강원도 강릉시 견소동        289          289            0  송정해변신도브래뉴아파트    84.990   \n\n   contract_yymm  contract_dd  contract_price  apt_floor  completion_year  \\\n0         201208           24          13,000          5             1997   \n1         201208           27           8,500         15             1997   \n2         201208           31           6,000          1             1997   \n3         201208            8          15,000          7             2005   \n4         201208            9          16,500          9             2005   \n\n    street_name  \n0   경강로2539번길 8  \n1   경강로2539번길 8  \n2   경강로2539번길 8  \n3  경강로2539번길 22  \n4  경강로2539번길 22  ",
      "text/html": "<div>\n<style scoped>\n    .dataframe tbody tr th:only-of-type {\n        vertical-align: middle;\n    }\n\n    .dataframe tbody tr th {\n        vertical-align: top;\n    }\n\n    .dataframe thead th {\n        text-align: right;\n    }\n</style>\n<table border=\"1\" class=\"dataframe\">\n  <thead>\n    <tr style=\"text-align: right;\">\n      <th></th>\n      <th>region</th>\n      <th>street_num</th>\n      <th>street_num1</th>\n      <th>street_num2</th>\n      <th>apt_name</th>\n      <th>apt_size</th>\n      <th>contract_yymm</th>\n      <th>contract_dd</th>\n      <th>contract_price</th>\n      <th>apt_floor</th>\n      <th>completion_year</th>\n      <th>street_name</th>\n    </tr>\n  </thead>\n  <tbody>\n    <tr>\n      <th>0</th>\n      <td>강원도 강릉시 견소동</td>\n      <td>202</td>\n      <td>202</td>\n      <td>0</td>\n      <td>송정한신</td>\n      <td>84.945</td>\n      <td>201208</td>\n      <td>24</td>\n      <td>13,000</td>\n      <td>5</td>\n      <td>1997</td>\n      <td>경강로2539번길 8</td>\n    </tr>\n    <tr>\n      <th>1</th>\n      <td>강원도 강릉시 견소동</td>\n      <td>202</td>\n      <td>202</td>\n      <td>0</td>\n      <td>송정한신</td>\n      <td>59.800</td>\n      <td>201208</td>\n      <td>27</td>\n      <td>8,500</td>\n      <td>15</td>\n      <td>1997</td>\n      <td>경강로2539번길 8</td>\n    </tr>\n    <tr>\n      <th>2</th>\n      <td>강원도 강릉시 견소동</td>\n      <td>202</td>\n      <td>202</td>\n      <td>0</td>\n      <td>송정한신</td>\n      <td>59.800</td>\n      <td>201208</td>\n      <td>31</td>\n      <td>6,000</td>\n      <td>1</td>\n      <td>1997</td>\n      <td>경강로2539번길 8</td>\n    </tr>\n    <tr>\n      <th>3</th>\n      <td>강원도 강릉시 견소동</td>\n      <td>289</td>\n      <td>289</td>\n      <td>0</td>\n      <td>송정해변신도브래뉴아파트</td>\n      <td>84.990</td>\n      <td>201208</td>\n      <td>8</td>\n      <td>15,000</td>\n      <td>7</td>\n      <td>2005</td>\n      <td>경강로2539번길 22</td>\n    </tr>\n    <tr>\n      <th>4</th>\n      <td>강원도 강릉시 견소동</td>\n      <td>289</td>\n      <td>289</td>\n      <td>0</td>\n      <td>송정해변신도브래뉴아파트</td>\n      <td>84.990</td>\n      <td>201208</td>\n      <td>9</td>\n      <td>16,500</td>\n      <td>9</td>\n      <td>2005</td>\n      <td>경강로2539번길 22</td>\n    </tr>\n  </tbody>\n</table>\n</div>"
     },
     "metadata": {},
     "execution_count": 7
    }
   ],
   "source": [
    "# 엑셀 파일 로드 테스트\n",
    "fileD = pd.read_excel(raw_files[0], index_col=None, header=None, skiprows=17)\n",
    "fileD.columns = RAW_FILE_COLUMNS\n",
    "\n",
    "fileD.info()\n",
    "fileD.head()"
   ]
  },
  {
   "cell_type": "code",
   "execution_count": 7,
   "metadata": {},
   "outputs": [],
   "source": [
    "# 컬럼 추가 및 데이터 수정 함수\n",
    "def buildRawD(D=None):\n",
    "    if D is None:\n",
    "        return 0\n",
    "\n",
    "    region_str = D['region'].split(\" \", 1)\n",
    "    \n",
    "    D['region'] = region_str[0]\n",
    "    D['region_sub'] = region_str[1]\n",
    "\n",
    "    D['apt_size'] = f'{D[\"apt_size\"]:#.02f}'\n",
    "\n",
    "    # yyyy-mm-dd 형식 변환\n",
    "    yymm = str(D['contract_yymm'])\n",
    "    D['contract_date'] = f'{yymm[:4]}-{yymm[4:]}-{D[\"contract_dd\"]:#02d}'\n",
    "    \n",
    "    # ',' 제거, (만원) -> 0000 추가\n",
    "    D['contract_price'] = D['contract_price'].replace(',', '') + '0000'\n",
    "\n",
    "    return D\n"
   ]
  },
  {
   "cell_type": "code",
   "execution_count": 9,
   "metadata": {
    "tags": []
   },
   "outputs": [
    {
     "output_type": "stream",
     "name": "stdout",
     "text": "<class 'pandas.core.frame.DataFrame'>\nRangeIndex: 26054 entries, 0 to 26053\nData columns (total 14 columns):\n #   Column           Non-Null Count  Dtype \n---  ------           --------------  ----- \n 0   region           26054 non-null  object\n 1   street_num       26054 non-null  object\n 2   street_num1      26054 non-null  int64 \n 3   street_num2      26054 non-null  int64 \n 4   apt_name         26054 non-null  object\n 5   apt_size         26054 non-null  object\n 6   contract_yymm    26054 non-null  int64 \n 7   contract_dd      26054 non-null  int64 \n 8   contract_price   26054 non-null  object\n 9   apt_floor        26054 non-null  int64 \n 10  completion_year  26054 non-null  int64 \n 11  street_name      26054 non-null  object\n 12  region_sub       26054 non-null  object\n 13  contract_date    26054 non-null  object\ndtypes: int64(6), object(8)\nmemory usage: 2.8+ MB\n"
    },
    {
     "output_type": "execute_result",
     "data": {
      "text/plain": "  region street_num  street_num1  street_num2      apt_name apt_size  \\\n0    강원도        202          202            0          송정한신    84.94   \n1    강원도        202          202            0          송정한신    59.80   \n2    강원도        202          202            0          송정한신    59.80   \n3    강원도        289          289            0  송정해변신도브래뉴아파트    84.99   \n4    강원도        289          289            0  송정해변신도브래뉴아파트    84.99   \n\n   contract_yymm  contract_dd     contract_price  apt_floor  completion_year  \\\n0         201208           24          130000000          5             1997   \n1         201208           27           85000000         15             1997   \n2         201208           31           60000000          1             1997   \n3         201208            8          150000000          7             2005   \n4         201208            9          165000000          9             2005   \n\n    street_name region_sub contract_date  \n0   경강로2539번길 8    강릉시 견소동    2012-08-24  \n1   경강로2539번길 8    강릉시 견소동    2012-08-27  \n2   경강로2539번길 8    강릉시 견소동    2012-08-31  \n3  경강로2539번길 22    강릉시 견소동    2012-08-08  \n4  경강로2539번길 22    강릉시 견소동    2012-08-09  ",
      "text/html": "<div>\n<style scoped>\n    .dataframe tbody tr th:only-of-type {\n        vertical-align: middle;\n    }\n\n    .dataframe tbody tr th {\n        vertical-align: top;\n    }\n\n    .dataframe thead th {\n        text-align: right;\n    }\n</style>\n<table border=\"1\" class=\"dataframe\">\n  <thead>\n    <tr style=\"text-align: right;\">\n      <th></th>\n      <th>region</th>\n      <th>street_num</th>\n      <th>street_num1</th>\n      <th>street_num2</th>\n      <th>apt_name</th>\n      <th>apt_size</th>\n      <th>contract_yymm</th>\n      <th>contract_dd</th>\n      <th>contract_price</th>\n      <th>apt_floor</th>\n      <th>completion_year</th>\n      <th>street_name</th>\n      <th>region_sub</th>\n      <th>contract_date</th>\n    </tr>\n  </thead>\n  <tbody>\n    <tr>\n      <th>0</th>\n      <td>강원도</td>\n      <td>202</td>\n      <td>202</td>\n      <td>0</td>\n      <td>송정한신</td>\n      <td>84.94</td>\n      <td>201208</td>\n      <td>24</td>\n      <td>130000000</td>\n      <td>5</td>\n      <td>1997</td>\n      <td>경강로2539번길 8</td>\n      <td>강릉시 견소동</td>\n      <td>2012-08-24</td>\n    </tr>\n    <tr>\n      <th>1</th>\n      <td>강원도</td>\n      <td>202</td>\n      <td>202</td>\n      <td>0</td>\n      <td>송정한신</td>\n      <td>59.80</td>\n      <td>201208</td>\n      <td>27</td>\n      <td>85000000</td>\n      <td>15</td>\n      <td>1997</td>\n      <td>경강로2539번길 8</td>\n      <td>강릉시 견소동</td>\n      <td>2012-08-27</td>\n    </tr>\n    <tr>\n      <th>2</th>\n      <td>강원도</td>\n      <td>202</td>\n      <td>202</td>\n      <td>0</td>\n      <td>송정한신</td>\n      <td>59.80</td>\n      <td>201208</td>\n      <td>31</td>\n      <td>60000000</td>\n      <td>1</td>\n      <td>1997</td>\n      <td>경강로2539번길 8</td>\n      <td>강릉시 견소동</td>\n      <td>2012-08-31</td>\n    </tr>\n    <tr>\n      <th>3</th>\n      <td>강원도</td>\n      <td>289</td>\n      <td>289</td>\n      <td>0</td>\n      <td>송정해변신도브래뉴아파트</td>\n      <td>84.99</td>\n      <td>201208</td>\n      <td>8</td>\n      <td>150000000</td>\n      <td>7</td>\n      <td>2005</td>\n      <td>경강로2539번길 22</td>\n      <td>강릉시 견소동</td>\n      <td>2012-08-08</td>\n    </tr>\n    <tr>\n      <th>4</th>\n      <td>강원도</td>\n      <td>289</td>\n      <td>289</td>\n      <td>0</td>\n      <td>송정해변신도브래뉴아파트</td>\n      <td>84.99</td>\n      <td>201208</td>\n      <td>9</td>\n      <td>165000000</td>\n      <td>9</td>\n      <td>2005</td>\n      <td>경강로2539번길 22</td>\n      <td>강릉시 견소동</td>\n      <td>2012-08-09</td>\n    </tr>\n  </tbody>\n</table>\n</div>"
     },
     "metadata": {},
     "execution_count": 9
    }
   ],
   "source": [
    "# 원본 데이터 수정\n",
    "rawD = fileD.apply(buildRawD, axis=1)\n",
    "\n",
    "rawD.info()\n",
    "rawD.head()"
   ]
  },
  {
   "cell_type": "code",
   "execution_count": 10,
   "metadata": {
    "tags": []
   },
   "outputs": [
    {
     "output_type": "stream",
     "name": "stdout",
     "text": "<class 'pandas.core.frame.DataFrame'>\nRangeIndex: 26054 entries, 0 to 26053\nData columns (total 10 columns):\n #   Column           Non-Null Count  Dtype \n---  ------           --------------  ----- \n 0   region           26054 non-null  object\n 1   region_sub       26054 non-null  object\n 2   apt_name         26054 non-null  object\n 3   apt_size         26054 non-null  object\n 4   apt_floor        26054 non-null  int64 \n 5   contract_date    26054 non-null  object\n 6   contract_price   26054 non-null  object\n 7   completion_year  26054 non-null  int64 \n 8   street_num       26054 non-null  object\n 9   street_name      26054 non-null  object\ndtypes: int64(2), object(8)\nmemory usage: 2.0+ MB\n"
    },
    {
     "output_type": "execute_result",
     "data": {
      "text/plain": "  region region_sub      apt_name apt_size  apt_floor contract_date  \\\n0    강원도    강릉시 견소동          송정한신    84.94          5    2012-08-24   \n1    강원도    강릉시 견소동          송정한신    59.80         15    2012-08-27   \n2    강원도    강릉시 견소동          송정한신    59.80          1    2012-08-31   \n3    강원도    강릉시 견소동  송정해변신도브래뉴아파트    84.99          7    2012-08-08   \n4    강원도    강릉시 견소동  송정해변신도브래뉴아파트    84.99          9    2012-08-09   \n\n      contract_price  completion_year street_num   street_name  \n0          130000000             1997        202   경강로2539번길 8  \n1           85000000             1997        202   경강로2539번길 8  \n2           60000000             1997        202   경강로2539번길 8  \n3          150000000             2005        289  경강로2539번길 22  \n4          165000000             2005        289  경강로2539번길 22  ",
      "text/html": "<div>\n<style scoped>\n    .dataframe tbody tr th:only-of-type {\n        vertical-align: middle;\n    }\n\n    .dataframe tbody tr th {\n        vertical-align: top;\n    }\n\n    .dataframe thead th {\n        text-align: right;\n    }\n</style>\n<table border=\"1\" class=\"dataframe\">\n  <thead>\n    <tr style=\"text-align: right;\">\n      <th></th>\n      <th>region</th>\n      <th>region_sub</th>\n      <th>apt_name</th>\n      <th>apt_size</th>\n      <th>apt_floor</th>\n      <th>contract_date</th>\n      <th>contract_price</th>\n      <th>completion_year</th>\n      <th>street_num</th>\n      <th>street_name</th>\n    </tr>\n  </thead>\n  <tbody>\n    <tr>\n      <th>0</th>\n      <td>강원도</td>\n      <td>강릉시 견소동</td>\n      <td>송정한신</td>\n      <td>84.94</td>\n      <td>5</td>\n      <td>2012-08-24</td>\n      <td>130000000</td>\n      <td>1997</td>\n      <td>202</td>\n      <td>경강로2539번길 8</td>\n    </tr>\n    <tr>\n      <th>1</th>\n      <td>강원도</td>\n      <td>강릉시 견소동</td>\n      <td>송정한신</td>\n      <td>59.80</td>\n      <td>15</td>\n      <td>2012-08-27</td>\n      <td>85000000</td>\n      <td>1997</td>\n      <td>202</td>\n      <td>경강로2539번길 8</td>\n    </tr>\n    <tr>\n      <th>2</th>\n      <td>강원도</td>\n      <td>강릉시 견소동</td>\n      <td>송정한신</td>\n      <td>59.80</td>\n      <td>1</td>\n      <td>2012-08-31</td>\n      <td>60000000</td>\n      <td>1997</td>\n      <td>202</td>\n      <td>경강로2539번길 8</td>\n    </tr>\n    <tr>\n      <th>3</th>\n      <td>강원도</td>\n      <td>강릉시 견소동</td>\n      <td>송정해변신도브래뉴아파트</td>\n      <td>84.99</td>\n      <td>7</td>\n      <td>2012-08-08</td>\n      <td>150000000</td>\n      <td>2005</td>\n      <td>289</td>\n      <td>경강로2539번길 22</td>\n    </tr>\n    <tr>\n      <th>4</th>\n      <td>강원도</td>\n      <td>강릉시 견소동</td>\n      <td>송정해변신도브래뉴아파트</td>\n      <td>84.99</td>\n      <td>9</td>\n      <td>2012-08-09</td>\n      <td>165000000</td>\n      <td>2005</td>\n      <td>289</td>\n      <td>경강로2539번길 22</td>\n    </tr>\n  </tbody>\n</table>\n</div>"
     },
     "metadata": {},
     "execution_count": 10
    }
   ],
   "source": [
    "\n",
    "# 필요 데이터 선택 및 컬럼 재배치, 데이터 변환하기\n",
    "dataD = rawD.loc[:, DATA_FILE_COLUMNS]\n",
    "\n",
    "dataD.info()\n",
    "dataD.head()"
   ]
  },
  {
   "cell_type": "code",
   "execution_count": 11,
   "metadata": {},
   "outputs": [],
   "source": [
    "# data-files 폴더에 수정한 데이터 csv 파일 저장\n",
    "dataD.to_csv(data_files[0], mode='w', header=True, index=False)"
   ]
  },
  {
   "cell_type": "code",
   "execution_count": 8,
   "metadata": {},
   "outputs": [],
   "source": [
    "# 파일 일괄 수정 및 저장 함수\n",
    "def make_new_files(files_zip):\n",
    "    \n",
    "    total_count = 0\n",
    "    for raw_path, data_path in files_zip:\n",
    "        fileD = pd.read_excel(raw_path, index_col=None, header=None, skiprows=17)\n",
    "        fileD.columns = RAW_FILE_COLUMNS\n",
    "        \n",
    "        rawD = fileD.apply(buildRawD, axis=1)\n",
    "        dataD = rawD.loc[:, DATA_FILE_COLUMNS]\n",
    "\n",
    "        dataD.to_csv(data_path, mode='w', header=True, index=False)\n",
    "\n",
    "        data_count = len(dataD)\n",
    "        total_count += data_count\n",
    "        print(f'complete {data_path}, data count: {data_count}')\n",
    "    \n",
    "    print(f'total data count: {total_count}')"
   ]
  },
  {
   "cell_type": "code",
   "execution_count": 9,
   "metadata": {
    "tags": []
   },
   "outputs": [
    {
     "output_type": "stream",
     "name": "stdout",
     "text": "complete data-files/201208.csv, data count: 26054\ncomplete data-files/201209.csv, data count: 34032\ncomplete data-files/201210.csv, data count: 45854\ncomplete data-files/201211.csv, data count: 42309\ncomplete data-files/201212.csv, data count: 37772\ncomplete data-files/201301.csv, data count: 31650\ncomplete data-files/201302.csv, data count: 38174\ncomplete data-files/201303.csv, data count: 53797\ncomplete data-files/201304.csv, data count: 56387\ncomplete data-files/201305.csv, data count: 53053\ncomplete data-files/201306.csv, data count: 49828\ncomplete data-files/201307.csv, data count: 31438\ncomplete data-files/201308.csv, data count: 41045\ncomplete data-files/201309.csv, data count: 51796\ncomplete data-files/201310.csv, data count: 61687\ncomplete data-files/201311.csv, data count: 45881\ncomplete data-files/201312.csv, data count: 48839\ncomplete data-files/201401.csv, data count: 48870\ncomplete data-files/201402.csv, data count: 58396\ncomplete data-files/201403.csv, data count: 62068\ncomplete data-files/201404.csv, data count: 47872\ncomplete data-files/201405.csv, data count: 43663\ncomplete data-files/201406.csv, data count: 44359\ncomplete data-files/201407.csv, data count: 50171\ncomplete data-files/201408.csv, data count: 59766\ncomplete data-files/201409.csv, data count: 66036\ncomplete data-files/201410.csv, data count: 64274\ncomplete data-files/201411.csv, data count: 48622\ncomplete data-files/201412.csv, data count: 46394\ncomplete data-files/201501.csv, data count: 61598\ncomplete data-files/201502.csv, data count: 55893\ncomplete data-files/201503.csv, data count: 87137\ncomplete data-files/201504.csv, data count: 71654\ncomplete data-files/201505.csv, data count: 60953\ncomplete data-files/201506.csv, data count: 62737\ncomplete data-files/201507.csv, data count: 61775\ncomplete data-files/201508.csv, data count: 52133\ncomplete data-files/201509.csv, data count: 55654\ncomplete data-files/201510.csv, data count: 64446\ncomplete data-files/201511.csv, data count: 47218\ncomplete data-files/201512.csv, data count: 36855\ncomplete data-files/201601.csv, data count: 35629\ncomplete data-files/201602.csv, data count: 36424\ncomplete data-files/201603.csv, data count: 53434\ncomplete data-files/201604.csv, data count: 53500\ncomplete data-files/201605.csv, data count: 51356\ncomplete data-files/201606.csv, data count: 59963\ncomplete data-files/201607.csv, data count: 59136\ncomplete data-files/201608.csv, data count: 59811\ncomplete data-files/201609.csv, data count: 60995\ncomplete data-files/201610.csv, data count: 71670\ncomplete data-files/201611.csv, data count: 46722\ncomplete data-files/201612.csv, data count: 36191\ncomplete data-files/201701.csv, data count: 30126\ncomplete data-files/201702.csv, data count: 41852\ncomplete data-files/201703.csv, data count: 51241\ncomplete data-files/201704.csv, data count: 47684\ncomplete data-files/201705.csv, data count: 58833\ncomplete data-files/201706.csv, data count: 62631\ncomplete data-files/201707.csv, data count: 61708\ncomplete data-files/201708.csv, data count: 45227\ncomplete data-files/201709.csv, data count: 47247\ncomplete data-files/201710.csv, data count: 39636\ncomplete data-files/201711.csv, data count: 43933\ncomplete data-files/201712.csv, data count: 40193\ncomplete data-files/201801.csv, data count: 50677\ncomplete data-files/201802.csv, data count: 43503\ncomplete data-files/201803.csv, data count: 55215\ncomplete data-files/201804.csv, data count: 35665\ncomplete data-files/201805.csv, data count: 36816\ncomplete data-files/201806.csv, data count: 38796\ncomplete data-files/201807.csv, data count: 36512\ncomplete data-files/201808.csv, data count: 56304\ncomplete data-files/201809.csv, data count: 50858\ncomplete data-files/201810.csv, data count: 43985\ncomplete data-files/201811.csv, data count: 30734\ncomplete data-files/201812.csv, data count: 26875\ncomplete data-files/201901.csv, data count: 28402\ncomplete data-files/201902.csv, data count: 26134\ncomplete data-files/201903.csv, data count: 33393\ncomplete data-files/201904.csv, data count: 32309\ncomplete data-files/201905.csv, data count: 35097\ncomplete data-files/201906.csv, data count: 38375\ncomplete data-files/201907.csv, data count: 45214\ncomplete data-files/201908.csv, data count: 41946\ncomplete data-files/201909.csv, data count: 44028\ncomplete data-files/201910.csv, data count: 64684\ncomplete data-files/201911.csv, data count: 74303\ncomplete data-files/201912.csv, data count: 70417\ncomplete data-files/202001.csv, data count: 58604\ncomplete data-files/202002.csv, data count: 81858\ncomplete data-files/202003.csv, data count: 50516\ncomplete data-files/202004.csv, data count: 43957\ncomplete data-files/202005.csv, data count: 60240\ncomplete data-files/202006.csv, data count: 105213\ncomplete data-files/202007.csv, data count: 56616\ntotal data count: 4800528\n"
    }
   ],
   "source": [
    "# 일괄 파일 만들기\n",
    "# data-files 폴더 지우고 실행\n",
    "# 소요 시간 3시간 15분!!!\n",
    "# total data count: 4800528\n",
    "\n",
    "# make_new_files(zip(raw_files, data_files))"
   ]
  },
  {
   "cell_type": "code",
   "execution_count": 6,
   "metadata": {
    "tags": []
   },
   "outputs": [
    {
     "output_type": "stream",
     "name": "stdout",
     "text": "<class 'pandas.core.frame.DataFrame'>\nRangeIndex: 26054 entries, 0 to 26053\nData columns (total 10 columns):\n #   Column           Non-Null Count  Dtype  \n---  ------           --------------  -----  \n 0   region           26054 non-null  object \n 1   region_sub       26054 non-null  object \n 2   apt_name         26054 non-null  object \n 3   apt_size         26054 non-null  float64\n 4   apt_floor        26054 non-null  int64  \n 5   contract_date    26054 non-null  object \n 6   contract_price   26054 non-null  int64  \n 7   completion_year  26054 non-null  int64  \n 8   street_num       26054 non-null  object \n 9   street_name      26054 non-null  object \ndtypes: float64(1), int64(3), object(6)\nmemory usage: 2.0+ MB\n"
    },
    {
     "output_type": "execute_result",
     "data": {
      "text/plain": "  region region_sub      apt_name  apt_size  apt_floor contract_date  \\\n0    강원도    강릉시 견소동          송정한신     84.94          5    2012-08-24   \n1    강원도    강릉시 견소동          송정한신     59.80         15    2012-08-27   \n2    강원도    강릉시 견소동          송정한신     59.80          1    2012-08-31   \n3    강원도    강릉시 견소동  송정해변신도브래뉴아파트     84.99          7    2012-08-08   \n4    강원도    강릉시 견소동  송정해변신도브래뉴아파트     84.99          9    2012-08-09   \n\n   contract_price  completion_year street_num   street_name  \n0       130000000             1997        202   경강로2539번길 8  \n1        85000000             1997        202   경강로2539번길 8  \n2        60000000             1997        202   경강로2539번길 8  \n3       150000000             2005        289  경강로2539번길 22  \n4       165000000             2005        289  경강로2539번길 22  ",
      "text/html": "<div>\n<style scoped>\n    .dataframe tbody tr th:only-of-type {\n        vertical-align: middle;\n    }\n\n    .dataframe tbody tr th {\n        vertical-align: top;\n    }\n\n    .dataframe thead th {\n        text-align: right;\n    }\n</style>\n<table border=\"1\" class=\"dataframe\">\n  <thead>\n    <tr style=\"text-align: right;\">\n      <th></th>\n      <th>region</th>\n      <th>region_sub</th>\n      <th>apt_name</th>\n      <th>apt_size</th>\n      <th>apt_floor</th>\n      <th>contract_date</th>\n      <th>contract_price</th>\n      <th>completion_year</th>\n      <th>street_num</th>\n      <th>street_name</th>\n    </tr>\n  </thead>\n  <tbody>\n    <tr>\n      <th>0</th>\n      <td>강원도</td>\n      <td>강릉시 견소동</td>\n      <td>송정한신</td>\n      <td>84.94</td>\n      <td>5</td>\n      <td>2012-08-24</td>\n      <td>130000000</td>\n      <td>1997</td>\n      <td>202</td>\n      <td>경강로2539번길 8</td>\n    </tr>\n    <tr>\n      <th>1</th>\n      <td>강원도</td>\n      <td>강릉시 견소동</td>\n      <td>송정한신</td>\n      <td>59.80</td>\n      <td>15</td>\n      <td>2012-08-27</td>\n      <td>85000000</td>\n      <td>1997</td>\n      <td>202</td>\n      <td>경강로2539번길 8</td>\n    </tr>\n    <tr>\n      <th>2</th>\n      <td>강원도</td>\n      <td>강릉시 견소동</td>\n      <td>송정한신</td>\n      <td>59.80</td>\n      <td>1</td>\n      <td>2012-08-31</td>\n      <td>60000000</td>\n      <td>1997</td>\n      <td>202</td>\n      <td>경강로2539번길 8</td>\n    </tr>\n    <tr>\n      <th>3</th>\n      <td>강원도</td>\n      <td>강릉시 견소동</td>\n      <td>송정해변신도브래뉴아파트</td>\n      <td>84.99</td>\n      <td>7</td>\n      <td>2012-08-08</td>\n      <td>150000000</td>\n      <td>2005</td>\n      <td>289</td>\n      <td>경강로2539번길 22</td>\n    </tr>\n    <tr>\n      <th>4</th>\n      <td>강원도</td>\n      <td>강릉시 견소동</td>\n      <td>송정해변신도브래뉴아파트</td>\n      <td>84.99</td>\n      <td>9</td>\n      <td>2012-08-09</td>\n      <td>165000000</td>\n      <td>2005</td>\n      <td>289</td>\n      <td>경강로2539번길 22</td>\n    </tr>\n  </tbody>\n</table>\n</div>"
     },
     "metadata": {},
     "execution_count": 6
    }
   ],
   "source": [
    "# 생성 파일 로드 테스트\n",
    "testD = pd.read_csv(data_files[0])\n",
    "testD.info()\n",
    "testD.head()"
   ]
  },
  {
   "cell_type": "code",
   "execution_count": 7,
   "metadata": {},
   "outputs": [
    {
     "output_type": "execute_result",
     "data": {
      "text/plain": "array(['강원도', '경기도', '경상남도', '경상북도', '광주광역시', '대구광역시', '대전광역시', '부산광역시',\n       '서울특별시', '세종특별자치시', '울산광역시', '인천광역시', '전라남도', '전라북도', '제주특별자치도',\n       '충청남도', '충청북도'], dtype=object)"
     },
     "metadata": {},
     "execution_count": 7
    }
   ],
   "source": [
    "testD['region'].unique()"
   ]
  },
  {
   "cell_type": "code",
   "execution_count": null,
   "metadata": {},
   "outputs": [],
   "source": []
  }
 ]
}